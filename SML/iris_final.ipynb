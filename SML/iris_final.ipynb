{
 "cells": [
  {
   "cell_type": "code",
   "execution_count": 1,
   "metadata": {},
   "outputs": [],
   "source": [
    "from  sklearn.datasets  import  load_iris\n",
    "#  loading  iris flower data\n",
    "from  sklearn.tree  import  DecisionTreeClassifier\n",
    "#  loading  decision tree clf\n"
   ]
  },
  {
   "cell_type": "code",
   "execution_count": 2,
   "metadata": {},
   "outputs": [],
   "source": [
    "# loading  iris data\n",
    "iris=load_iris()"
   ]
  },
  {
   "cell_type": "code",
   "execution_count": 3,
   "metadata": {},
   "outputs": [
    {
     "data": {
      "text/plain": [
       "['DESCR', 'data', 'feature_names', 'filename', 'target', 'target_names']"
      ]
     },
     "execution_count": 3,
     "metadata": {},
     "output_type": "execute_result"
    }
   ],
   "source": [
    "# now time for describing\n",
    "dir(iris)"
   ]
  },
  {
   "cell_type": "code",
   "execution_count": 10,
   "metadata": {},
   "outputs": [
    {
     "data": {
      "text/plain": [
       "(150,)"
      ]
     },
     "execution_count": 10,
     "metadata": {},
     "output_type": "execute_result"
    }
   ],
   "source": [
    "#  about data \n",
    "#iris.DESCR\n",
    "# actaul output \n",
    "#iris.target_names  #  actual target names \n",
    "#  training data is always  attribute of target\n",
    "#iris.feature_names  # attributes  of flowers\n",
    "#  training  data is attribute  \n",
    "features=iris.data   #  this is complete trainging data \n",
    "features.shape #  rows(repetition of same attribute data),columns(will be number of atrributes)\n",
    "'''\n",
    "Number of  Question  == Number of Answer   #  for training fo any classifier \n",
    "'''\n",
    "label=iris.target\n",
    "label.shape\n",
    "#  best way to detect  label data is to match  features and labels --rows "
   ]
  },
  {
   "cell_type": "code",
   "execution_count": 11,
   "metadata": {},
   "outputs": [],
   "source": [
    "#  bcz  we have  150  total  data \n",
    "#  need  to split in training  &  testing  category \n",
    "from  sklearn.model_selection import  train_test_split\n",
    "#  this will do the task for us"
   ]
  },
  {
   "cell_type": "code",
   "execution_count": 15,
   "metadata": {},
   "outputs": [],
   "source": [
    "# need more help\n",
    "#help(train_test_split)\n",
    "#                  Q     &   A\n",
    "train_data,test_data,train_ans,test_ans=train_test_split(features,label,test_size=0.2)  #  by default  testing  % 25  \n",
    "#  we are cuting  20%  for testing data"
   ]
  },
  {
   "cell_type": "code",
   "execution_count": 18,
   "metadata": {},
   "outputs": [],
   "source": [
    "# cross checking\n",
    "#train_data.shape\n",
    "#train_ans.shape"
   ]
  },
  {
   "cell_type": "code",
   "execution_count": 19,
   "metadata": {},
   "outputs": [],
   "source": [
    "#  now  calling  classifier\n",
    "clf=DecisionTreeClassifier()\n",
    "learn=clf.fit(train_data,train_ans)   #  here we pass Q & A "
   ]
  },
  {
   "cell_type": "code",
   "execution_count": 20,
   "metadata": {},
   "outputs": [
    {
     "data": {
      "text/plain": [
       "array([2, 2, 1, 0, 1, 2, 0, 2, 1, 0, 0, 2, 1, 0, 2, 1, 0, 2, 2, 0, 1, 2,\n",
       "       2, 1, 0, 0, 2, 1, 1, 1])"
      ]
     },
     "execution_count": 20,
     "metadata": {},
     "output_type": "execute_result"
    }
   ],
   "source": [
    "#  now asking  test_data question \n",
    "prediction=learn.predict(test_data)\n",
    "prediction"
   ]
  },
  {
   "cell_type": "code",
   "execution_count": 21,
   "metadata": {},
   "outputs": [
    {
     "data": {
      "text/plain": [
       "array([2, 2, 2, 0, 2, 2, 0, 2, 1, 0, 0, 1, 1, 0, 2, 1, 0, 2, 2, 0, 1, 2,\n",
       "       2, 1, 0, 0, 2, 1, 1, 1])"
      ]
     },
     "execution_count": 21,
     "metadata": {},
     "output_type": "execute_result"
    }
   ],
   "source": [
    "#  actual answer\n",
    "test_ans"
   ]
  },
  {
   "cell_type": "code",
   "execution_count": 22,
   "metadata": {},
   "outputs": [
    {
     "data": {
      "text/plain": [
       "0.9"
      ]
     },
     "execution_count": 22,
     "metadata": {},
     "output_type": "execute_result"
    }
   ],
   "source": [
    "#  there is another way of  algo accuracy check\n",
    "from  sklearn.metrics  import  accuracy_score\n",
    "accuracy=accuracy_score(test_ans,prediction)\n",
    "accuracy"
   ]
  },
  {
   "cell_type": "code",
   "execution_count": null,
   "metadata": {},
   "outputs": [],
   "source": []
  }
 ],
 "metadata": {
  "kernelspec": {
   "display_name": "Python 3",
   "language": "python",
   "name": "python3"
  },
  "language_info": {
   "codemirror_mode": {
    "name": "ipython",
    "version": 3
   },
   "file_extension": ".py",
   "mimetype": "text/x-python",
   "name": "python",
   "nbconvert_exporter": "python",
   "pygments_lexer": "ipython3",
   "version": "3.6.7"
  }
 },
 "nbformat": 4,
 "nbformat_minor": 2
}
