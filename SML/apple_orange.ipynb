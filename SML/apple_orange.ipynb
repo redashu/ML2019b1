{
 "cells": [
  {
   "cell_type": "code",
   "execution_count": 14,
   "metadata": {},
   "outputs": [],
   "source": [
    "# assume some facts  or  data  with features about  apple and orange \n",
    "          #  weight , texture \n",
    "features=[[120,0],[130,0],[140,0],[145,1],[150,1],[160,1]]\n",
    "#  here  0 means smooth  and  1 means bumpy"
   ]
  },
  {
   "cell_type": "code",
   "execution_count": 13,
   "metadata": {},
   "outputs": [],
   "source": [
    "#  labels  or answer \n",
    "label=[\"apple\",\"apple\",\"apple\",\"orange\",\"orange\",\"orange\"]\n",
    "#label1=[2,2,2,3,3,3]"
   ]
  },
  {
   "cell_type": "code",
   "execution_count": 5,
   "metadata": {},
   "outputs": [],
   "source": [
    "#  to use algo in ML we need to install scikit learn\n",
    "#!sudo pip3  install sklearn \n",
    "# lets confirm\n",
    "#!sudo pip3 list    |   grep -i sklearn"
   ]
  },
  {
   "cell_type": "code",
   "execution_count": 6,
   "metadata": {},
   "outputs": [],
   "source": [
    "#  lets call any of the classifier desicion tree\n",
    "from  sklearn  import  tree"
   ]
  },
  {
   "cell_type": "code",
   "execution_count": 10,
   "metadata": {},
   "outputs": [],
   "source": [
    "#  let explore  creating decision tree classifier \n",
    "#dir(tree)\n",
    "clf=tree.DecisionTreeClassifier()"
   ]
  },
  {
   "cell_type": "code",
   "execution_count": 15,
   "metadata": {},
   "outputs": [],
   "source": [
    "#  time for  allocating  data to classifier ---  for training of Decision Tree\n",
    "trained=clf.fit(features,label)\n",
    "#        Q  &     A"
   ]
  },
  {
   "cell_type": "code",
   "execution_count": 18,
   "metadata": {},
   "outputs": [
    {
     "name": "stdout",
     "output_type": "stream",
     "text": [
      "['orange' 'apple']\n"
     ]
    }
   ],
   "source": [
    "#  time  for asking  question \n",
    "output=trained.predict([[160,1],[100,0]])\n",
    "print(output)"
   ]
  },
  {
   "cell_type": "code",
   "execution_count": null,
   "metadata": {},
   "outputs": [],
   "source": []
  }
 ],
 "metadata": {
  "kernelspec": {
   "display_name": "Python 3",
   "language": "python",
   "name": "python3"
  },
  "language_info": {
   "codemirror_mode": {
    "name": "ipython",
    "version": 3
   },
   "file_extension": ".py",
   "mimetype": "text/x-python",
   "name": "python",
   "nbconvert_exporter": "python",
   "pygments_lexer": "ipython3",
   "version": "3.6.7"
  }
 },
 "nbformat": 4,
 "nbformat_minor": 2
}
